import tensorflow as tf
from tensorflow.keras.layers import Conv2D, Input, ZeroPadding2D, BatchNormalization, Activation, 
MaxPooling2D, Flatten, Dense
from tensorflow.keras.models import Model, load_model
from tensorflow.keras.callbacks import TensorBoard, ModelCheckpoint
from sklearn.model_selection import train_test_split
from sklearn.metrics import f1_score
from sklearn.utils import shuffle
import cv2
import imutils
import numpy as np
import matplotlib.pyplot as plt
import time
from os import listdir
%matplotlib inline
def crop_brain_contour(image, plot=False):
	gray = cv2.cvtColor(image, cv2.COLOR_BGR2GRAY)
	gray = cv2.GaussianBlur(gray, (5, 5), 0)
	thresh = cv2.threshold(gray, 45, 255, cv2.THRESH_BINARY)[1]
	thresh = cv2.erode(thresh, None, iterations=2)
	thresh = cv2.dilate(thresh, None, iterations=2)
	cnts = cv2.findContours(thresh.copy(), cv2.RETR_EXTERNAL, cv2.CHAIN_APPROX_SIMPLE)
	cnts = imutils.grab_contours(cnts)
	c = max(cnts, key=cv2.contourArea)
	extLeft = tuple(c[c[:, :, 0].argmin()][0])
	extRight = tuple(c[c[:, :, 0].argmax()][0])
	extTop = tuple(c[c[:, :, 1].argmin()][0])
	extBot = tuple(c[c[:, :, 1].argmax()][0])
	new_image = image[extTop[1]:extBot[1], extLeft[0]:extRight[0]]
	if plot:
		plt.figure()
		plt.subplot(1, 2, 1)
 		plt.imshow(image) 
 		plt.tick_params(axis='both', which='both', 
 		top=False, bottom=False, left=False, right=False,
 		labelbottom=False, labeltop=False, labelleft=False, labelright=False) 
 		plt.title('Original Image') 
 		plt.subplot(1, 2, 2)
 		plt.imshow(new_image)
 		plt.tick_params(axis='both', which='both', 
 		top=False, bottom=False, left=False, right=False,
		labelbottom=False, labeltop=False, labelleft=False, labelright=False)
 		plt.title('Cropped Image') 
 		plt.show() 
 		return new_image



def load_data(dir_list, image_size):
	X = []
 	y = []
 	image_width, image_height = image_size 
 	for directory in dir_list:
 		for filename in listdir(directory):
 			# load the image
 			image = cv2.imread(directory + '\\' + filename)
 			image = crop_brain_contour(image, plot=False)
 			image = cv2.resize(image, dsize=(image_width, image_height), interpolation=cv2.INTER_CUBIC)
 			image = image / 255.
 			X.append(image)
 			if directory[-3:] == 'yes':
 				y.append([1])
 			else:
 				y.append([0])
	X = np.array(X)
 	y = np.array(y)
 	X, y = shuffle(X, y) 
 	print(f'Number of examples is: {len(X)}')
 	print(f'X shape is: {X.shape}')
 	print(f'y shape is: {y.shape}') 
 	return X, y
augmented_path = 'augmented data/'
augmented_yes = augmented_path + 'yes' 
augmented_no = augmented_path + 'no'

IMG_WIDTH, IMG_HEIGHT = (240, 240)
X, y = load_data([augmented_yes, augmented_no], (IMG_WIDTH, IMG_HEIGHT))
def plot_sample_images(X, y, n=50): 
for label in [0,1]:
 images = X[np.argwhere(y == label)]
 n_images = images[:n] 
 columns_n = 10
 rows_n = int(n/ columns_n)
 plt.figure(figsize=(20, 10)) 
 i = 1 
 for image in n_images:
 plt.subplot(rows_n, columns_n, i)
 plt.imshow(image[0])
 plt.tick_params(axis='both', which='both',
 top=False, bottom=False, left=False, right=False,
 labelbottom=False, labeltop=False, labelleft=False, labelright=False)
 i += 1 
 label_to_str = lambda label: "Yes" if label == 1 else "No"
 plt.suptitle(f"Brain Tumor: {label_to_str(label)}")
 plt.show()
plot_sample_images(X, y)
def split_data(X, y, test_size=0.2): 
 X_train, X_test_val, y_train, y_test_val = train_test_split(X, y, test_size=test_size)
 X_test, X_val, y_test, y_val = train_test_split(X_test_val, y_test_val, test_size=0.5)
 
 return X_train, y_train, X_val, y_val, X_test, y_test
X_train, y_train, X_val, y_val, X_test, y_test = split_data(X, y, test_size=0.3)
print ("number of training examples = " + str(X_train.shape[0]))
print ("number of development examples = " + str(X_val.shape[0]))
print ("number of test examples = " + str(X_test.shape[0]))
print ("X_train shape: " + str(X_train.shape))
print ("Y_train shape: " + str(y_train.shape))
print ("X_val (dev) shape: " + str(X_val.shape))
print ("Y_val (dev) shape: " + str(y_val.shape))
print ("X_test shape: " + str(X_test.shape))
print ("Y_test shape: " + str(y_test.shape))
def build_model(input_shape):

"""
 Arugments:
 input_shape: A tuple representing the shape of the input of the model. shape=(image_width, 
image_height, #_channels)
 Returns:
 model: A Model object.
 """
 # Define the input placeholder as a tensor with shape input_shape. 
 X_input = Input(input_shape) # shape=(?, 240, 240, 3)
 
 # Zero-Padding: pads the border of X_input with zeroes
 X = ZeroPadding2D((2, 2))(X_input) # shape=(?, 244, 244, 3)
 
 # CONV -> BN -> RELU Block applied to X
 X = Conv2D(32, (7, 7), strides = (1, 1), name = 'conv0')(X)
 X = BatchNormalization(axis = 3, name = 'bn0')(X)
 X = Activation('relu')(X) # shape=(?, 238, 238, 32)
 
 # MAXPOOL
 X = MaxPooling2D((4, 4), name='max_pool0')(X) # shape=(?, 59, 59, 32) 
 
 # MAXPOOL
 X = MaxPooling2D((4, 4), name='max_pool1')(X) # shape=(?, 14, 14, 32)
 
 # FLATTEN X 
 X = Flatten()(X) # shape=(?, 6272)
 # FULLYCONNECTED
 X = Dense(1, activation='sigmoid', name='fc')(X) # shape=(?, 1)
 
 # Create model. This creates your Keras model instance, you'll use this instance to train/test the model.
 model = Model(inputs = X_input, outputs = X, name='BrainDetectionModel')
 
 return model
model = build_model(IMG_SHAPE)

model.summary()
model.compile(optimizer='adam', loss='binary_crossentropy', metrics=['accuracy'])
filepath="cnn-parameters-improvement-{epoch:02d}-{val_acc:.2f}"
# save the model with the best validation (development) accuracy till now
checkpoint = ModelCheckpoint("models/{}.model".format(filepath,monitor='val_acc',verbose=1, 
save_best_only=True, mode='max'))
start_time = time.time()
model.fit(x=X_train,y=y_train,batch_size=32,epochs=10,validation_data=(X_val,y_val),callbacks=[tensorb
oard, checkpoint]) 
end_time = time.time()
execution_time = (end_time - start_time)
print(f"Elapsed time: {hms_string(execution_time)}")
start_time = time.time()
model.fit(x=X_train,y=y_train,batch_size=32,epochs=3,validation_data=(X_val,y_val),callbacks=[tensorbo
ard, checkpoint]) 
end_time = time.time()
execution_time = (end_time - start_time)
print(f"Elapsed time: {hms_string(execution_time)}")
start_time = time.time()
model.fit(x=X_train,y=y_train,batch_size=32,epochs=3,validation_data=(X_val,y_val),callbacks=[tensorbo
ard, checkpoint]) 
end_time = time.time()
execution_time = (end_time - start_time)
print(f"Elapsed time: {hms_string(execution_time)}")
start_time = time.time()
model.fit(x=X_train,y=y_train,batch_size=32,epochs=3,validation_data=(X_val,y_val),callbacks=[tensorbo
ard, checkpoint]) 
end_time = time.time()
execution_time = (end_time - start_time)
print(f"Elapsed time: {hms_string(execution_time)}")

start_time = time.time()
model.fit(x=X_train,y=y_train,batch_size=32,epochs=5,validation_data=(X_val,y_val),callbacks=[tensorbo
ard, checkpoint]) 
end_time = time.time()
execution_time = (end_time - start_time)
print(f"Elapsed time: {hms_string(execution_time)}")
history = model.history.history
def plot_metrics(history): 
 train_loss = history['loss']
 val_loss = history['val_loss']
 train_acc = history['acc']
 val_acc = history['val_acc']
 plt.figure()
 plt.plot(train_loss, label='Training Loss')
 plt.plot(val_loss, label='Validation Loss')
 plt.title('Loss')
 plt.legend()
 plt.show()
 plt.figure()
 plt.plot(train_acc, label='Training Accuracy')
 plt.plot(val_acc, label='Validation Accuracy')
 plt.title('Accuracy')
 plt.legend()
 plt.show()
plot_metrics(history)


	
	
	
	
	
	
	
	
	
	
	
	
	
	
	
	
	
	
	
	
	
	
	
	
	
	
	

